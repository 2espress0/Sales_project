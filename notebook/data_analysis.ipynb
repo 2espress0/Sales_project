{
 "cells": [
  {
   "cell_type": "markdown",
   "metadata": {},
   "source": [
    "# PYSPARK"
   ]
  },
  {
   "cell_type": "code",
   "execution_count": 1,
   "metadata": {},
   "outputs": [
    {
     "name": "stdout",
     "output_type": "stream",
     "text": [
      "Requirement already satisfied: pyspark in c:\\users\\asus\\anaconda3\\lib\\site-packages (3.5.1)\n",
      "Requirement already satisfied: py4j==0.10.9.7 in c:\\users\\asus\\anaconda3\\lib\\site-packages (from pyspark) (0.10.9.7)\n",
      "Note: you may need to restart the kernel to use updated packages.\n"
     ]
    }
   ],
   "source": [
    "%pip install pyspark\n"
   ]
  },
  {
   "cell_type": "markdown",
   "metadata": {},
   "source": [
    "## Create a Spark Session\n"
   ]
  },
  {
   "cell_type": "code",
   "execution_count": 2,
   "metadata": {},
   "outputs": [],
   "source": [
    "from pyspark.sql import SparkSession\n",
    "\n",
    "# Create a SparkSession named \"Spark\"\n",
    "spark = SparkSession.builder \\\n",
    "    .appName(\"Spark\") \\\n",
    "    .getOrCreate()"
   ]
  },
  {
   "cell_type": "markdown",
   "metadata": {},
   "source": [
    "### Load CSV Data\n"
   ]
  },
  {
   "cell_type": "code",
   "execution_count": 3,
   "metadata": {},
   "outputs": [
    {
     "name": "stdout",
     "output_type": "stream",
     "text": [
      "+------------------+--------------------+--------------------+-------------+---------+-----------+\n",
      "|          category|                link|                name|current_price|avg_stars|num_reviews|\n",
      "+------------------+--------------------+--------------------+-------------+---------+-----------+\n",
      "|telephone-tablette|https://www.jumia...|Écouteurs Bluetoo...|         96.0|      3.3|       13.0|\n",
      "|telephone-tablette|https://www.jumia...|Support Trépied r...|        129.0|      5.0|        1.0|\n",
      "|telephone-tablette|https://www.jumia...|Écouteurs Bluetoo...|         66.0|      3.7|       70.0|\n",
      "|telephone-tablette|https://www.jumia...|XIAOMI Redmi Buds...|        188.0|      4.4|       20.0|\n",
      "|telephone-tablette|https://www.jumia...|M10 TWS True Wire...|         49.0|      3.7|      164.0|\n",
      "|telephone-tablette|https://www.jumia...|\"XIAOMI REDMI NOT...|       2049.0|      4.3|        9.0|\n",
      "|telephone-tablette|https://www.jumia...|écouteurs Bluetoo...|         99.0|      3.9|       24.0|\n",
      "|telephone-tablette|https://www.jumia...|XIAOMI Redmi Buds...|        188.0|      4.1|       15.0|\n",
      "|telephone-tablette|https://www.jumia...|P9 Casque Bluetoo...|         65.6|      3.6|      179.0|\n",
      "|telephone-tablette|https://www.jumia...|bracelet pour app...|         49.0|      3.5|       22.0|\n",
      "|telephone-tablette|https://www.jumia...|\"Samsung Galaxy A...|       1299.0|      4.9|       12.0|\n",
      "|telephone-tablette|https://www.jumia...|\"Apple iPhone 15 ...|      14625.0|      5.0|        1.0|\n",
      "|telephone-tablette|https://www.jumia...|Nia Casque Blueto...|         89.0|      4.3|      122.0|\n",
      "|telephone-tablette|https://www.jumia...|TWS Écouteurs san...|         58.5|      3.6|       35.0|\n",
      "|telephone-tablette|https://www.jumia...|Itel A70 8GB (3+5...|        899.0|      5.0|        2.0|\n",
      "|telephone-tablette|https://www.jumia...|Smart watch pour ...|         75.0|      3.2|       14.0|\n",
      "|telephone-tablette|https://www.jumia...|Smartwatch Smart ...|         75.0|      3.0|        2.0|\n",
      "|telephone-tablette|https://www.jumia...|Bracelet Magnétiq...|         49.0|      4.0|       25.0|\n",
      "|telephone-tablette|https://www.jumia...|JBL Casque Tune 5...|        499.0|      4.4|        5.0|\n",
      "|telephone-tablette|https://www.jumia...|Casque de jeu int...|         79.0|      3.7|       13.0|\n",
      "+------------------+--------------------+--------------------+-------------+---------+-----------+\n",
      "only showing top 20 rows\n",
      "\n"
     ]
    }
   ],
   "source": [
    "# Load CSV data\n",
    "sold_products_path = '../datasets/products_sold_data.csv'\n",
    "sold_products_df = spark.read.csv(sold_products_path, header=True, inferSchema=True)\n",
    "\n",
    "# Show the first few rows of the DataFrame\n",
    "sold_products_df.show()"
   ]
  },
  {
   "cell_type": "markdown",
   "metadata": {},
   "source": [
    "### Check the Schema of the DataFrame\n"
   ]
  },
  {
   "cell_type": "code",
   "execution_count": 4,
   "metadata": {},
   "outputs": [
    {
     "name": "stdout",
     "output_type": "stream",
     "text": [
      "root\n",
      " |-- category: string (nullable = true)\n",
      " |-- link: string (nullable = true)\n",
      " |-- name: string (nullable = true)\n",
      " |-- current_price: string (nullable = true)\n",
      " |-- avg_stars: double (nullable = true)\n",
      " |-- num_reviews: double (nullable = true)\n",
      "\n"
     ]
    }
   ],
   "source": [
    "sold_products_df.printSchema()\n"
   ]
  },
  {
   "cell_type": "markdown",
   "metadata": {},
   "source": [
    "### Delete the \"link\" Column\n"
   ]
  },
  {
   "cell_type": "code",
   "execution_count": 5,
   "metadata": {},
   "outputs": [
    {
     "name": "stdout",
     "output_type": "stream",
     "text": [
      "+------------------+--------------------+-------------+---------+-----------+\n",
      "|          category|                name|current_price|avg_stars|num_reviews|\n",
      "+------------------+--------------------+-------------+---------+-----------+\n",
      "|telephone-tablette|Écouteurs Bluetoo...|         96.0|      3.3|       13.0|\n",
      "|telephone-tablette|Support Trépied r...|        129.0|      5.0|        1.0|\n",
      "|telephone-tablette|Écouteurs Bluetoo...|         66.0|      3.7|       70.0|\n",
      "|telephone-tablette|XIAOMI Redmi Buds...|        188.0|      4.4|       20.0|\n",
      "|telephone-tablette|M10 TWS True Wire...|         49.0|      3.7|      164.0|\n",
      "|telephone-tablette|\"XIAOMI REDMI NOT...|       2049.0|      4.3|        9.0|\n",
      "|telephone-tablette|écouteurs Bluetoo...|         99.0|      3.9|       24.0|\n",
      "|telephone-tablette|XIAOMI Redmi Buds...|        188.0|      4.1|       15.0|\n",
      "|telephone-tablette|P9 Casque Bluetoo...|         65.6|      3.6|      179.0|\n",
      "|telephone-tablette|bracelet pour app...|         49.0|      3.5|       22.0|\n",
      "|telephone-tablette|\"Samsung Galaxy A...|       1299.0|      4.9|       12.0|\n",
      "|telephone-tablette|\"Apple iPhone 15 ...|      14625.0|      5.0|        1.0|\n",
      "|telephone-tablette|Nia Casque Blueto...|         89.0|      4.3|      122.0|\n",
      "|telephone-tablette|TWS Écouteurs san...|         58.5|      3.6|       35.0|\n",
      "|telephone-tablette|Itel A70 8GB (3+5...|        899.0|      5.0|        2.0|\n",
      "|telephone-tablette|Smart watch pour ...|         75.0|      3.2|       14.0|\n",
      "|telephone-tablette|Smartwatch Smart ...|         75.0|      3.0|        2.0|\n",
      "|telephone-tablette|Bracelet Magnétiq...|         49.0|      4.0|       25.0|\n",
      "|telephone-tablette|JBL Casque Tune 5...|        499.0|      4.4|        5.0|\n",
      "|telephone-tablette|Casque de jeu int...|         79.0|      3.7|       13.0|\n",
      "+------------------+--------------------+-------------+---------+-----------+\n",
      "only showing top 20 rows\n",
      "\n"
     ]
    }
   ],
   "source": [
    "sold_products_df = sold_products_df.drop(\"link\")\n",
    "\n",
    "sold_products_df.show()\n"
   ]
  },
  {
   "cell_type": "markdown",
   "metadata": {},
   "source": [
    "### Rename the Columns\n"
   ]
  },
  {
   "cell_type": "code",
   "execution_count": 6,
   "metadata": {},
   "outputs": [
    {
     "name": "stdout",
     "output_type": "stream",
     "text": [
      "+------------------+--------------------+-------------+---------+--------------+\n",
      "|          category|        product_name|product_price|stars_avg|reviews_number|\n",
      "+------------------+--------------------+-------------+---------+--------------+\n",
      "|telephone-tablette|Écouteurs Bluetoo...|         96.0|      3.3|          13.0|\n",
      "|telephone-tablette|Support Trépied r...|        129.0|      5.0|           1.0|\n",
      "|telephone-tablette|Écouteurs Bluetoo...|         66.0|      3.7|          70.0|\n",
      "|telephone-tablette|XIAOMI Redmi Buds...|        188.0|      4.4|          20.0|\n",
      "|telephone-tablette|M10 TWS True Wire...|         49.0|      3.7|         164.0|\n",
      "|telephone-tablette|\"XIAOMI REDMI NOT...|       2049.0|      4.3|           9.0|\n",
      "|telephone-tablette|écouteurs Bluetoo...|         99.0|      3.9|          24.0|\n",
      "|telephone-tablette|XIAOMI Redmi Buds...|        188.0|      4.1|          15.0|\n",
      "|telephone-tablette|P9 Casque Bluetoo...|         65.6|      3.6|         179.0|\n",
      "|telephone-tablette|bracelet pour app...|         49.0|      3.5|          22.0|\n",
      "|telephone-tablette|\"Samsung Galaxy A...|       1299.0|      4.9|          12.0|\n",
      "|telephone-tablette|\"Apple iPhone 15 ...|      14625.0|      5.0|           1.0|\n",
      "|telephone-tablette|Nia Casque Blueto...|         89.0|      4.3|         122.0|\n",
      "|telephone-tablette|TWS Écouteurs san...|         58.5|      3.6|          35.0|\n",
      "|telephone-tablette|Itel A70 8GB (3+5...|        899.0|      5.0|           2.0|\n",
      "|telephone-tablette|Smart watch pour ...|         75.0|      3.2|          14.0|\n",
      "|telephone-tablette|Smartwatch Smart ...|         75.0|      3.0|           2.0|\n",
      "|telephone-tablette|Bracelet Magnétiq...|         49.0|      4.0|          25.0|\n",
      "|telephone-tablette|JBL Casque Tune 5...|        499.0|      4.4|           5.0|\n",
      "|telephone-tablette|Casque de jeu int...|         79.0|      3.7|          13.0|\n",
      "+------------------+--------------------+-------------+---------+--------------+\n",
      "only showing top 20 rows\n",
      "\n"
     ]
    }
   ],
   "source": [
    "sold_products_df = sold_products_df \\\n",
    "    .withColumnRenamed(\"name\", \"product_name\") \\\n",
    "    .withColumnRenamed(\"current_price\", \"product_price\") \\\n",
    "    .withColumnRenamed(\"avg_stars\", \"stars_avg\") \\\n",
    "    .withColumnRenamed(\"num_reviews\", \"reviews_number\") \n",
    "\n",
    "sold_products_df.show()\n"
   ]
  },
  {
   "cell_type": "markdown",
   "metadata": {},
   "source": [
    "### Replace \"-\" with Space in the \"category\" Column\n"
   ]
  },
  {
   "cell_type": "code",
   "execution_count": 7,
   "metadata": {},
   "outputs": [
    {
     "name": "stdout",
     "output_type": "stream",
     "text": [
      "+------------------+--------------------+-------------+---------+--------------+\n",
      "|          category|        product_name|product_price|stars_avg|reviews_number|\n",
      "+------------------+--------------------+-------------+---------+--------------+\n",
      "|telephone tablette|Écouteurs Bluetoo...|         96.0|      3.3|          13.0|\n",
      "|telephone tablette|Support Trépied r...|        129.0|      5.0|           1.0|\n",
      "|telephone tablette|Écouteurs Bluetoo...|         66.0|      3.7|          70.0|\n",
      "|telephone tablette|XIAOMI Redmi Buds...|        188.0|      4.4|          20.0|\n",
      "|telephone tablette|M10 TWS True Wire...|         49.0|      3.7|         164.0|\n",
      "|telephone tablette|\"XIAOMI REDMI NOT...|       2049.0|      4.3|           9.0|\n",
      "|telephone tablette|écouteurs Bluetoo...|         99.0|      3.9|          24.0|\n",
      "|telephone tablette|XIAOMI Redmi Buds...|        188.0|      4.1|          15.0|\n",
      "|telephone tablette|P9 Casque Bluetoo...|         65.6|      3.6|         179.0|\n",
      "|telephone tablette|bracelet pour app...|         49.0|      3.5|          22.0|\n",
      "|telephone tablette|\"Samsung Galaxy A...|       1299.0|      4.9|          12.0|\n",
      "|telephone tablette|\"Apple iPhone 15 ...|      14625.0|      5.0|           1.0|\n",
      "|telephone tablette|Nia Casque Blueto...|         89.0|      4.3|         122.0|\n",
      "|telephone tablette|TWS Écouteurs san...|         58.5|      3.6|          35.0|\n",
      "|telephone tablette|Itel A70 8GB (3+5...|        899.0|      5.0|           2.0|\n",
      "|telephone tablette|Smart watch pour ...|         75.0|      3.2|          14.0|\n",
      "|telephone tablette|Smartwatch Smart ...|         75.0|      3.0|           2.0|\n",
      "|telephone tablette|Bracelet Magnétiq...|         49.0|      4.0|          25.0|\n",
      "|telephone tablette|JBL Casque Tune 5...|        499.0|      4.4|           5.0|\n",
      "|telephone tablette|Casque de jeu int...|         79.0|      3.7|          13.0|\n",
      "+------------------+--------------------+-------------+---------+--------------+\n",
      "only showing top 20 rows\n",
      "\n"
     ]
    }
   ],
   "source": [
    "from pyspark.sql.functions import regexp_replace\n",
    "\n",
    "sold_products_df = sold_products_df.withColumn(\"category\", regexp_replace(\"category\", \"-\", \" \"))\n",
    "\n",
    "sold_products_df.show()\n"
   ]
  },
  {
   "cell_type": "markdown",
   "metadata": {},
   "source": [
    "### Clean the \"product_name\" Column\n"
   ]
  },
  {
   "cell_type": "code",
   "execution_count": 8,
   "metadata": {},
   "outputs": [
    {
     "name": "stdout",
     "output_type": "stream",
     "text": [
      "+------------------+--------------------+-------------+---------+--------------+\n",
      "|          category|        product_name|product_price|stars_avg|reviews_number|\n",
      "+------------------+--------------------+-------------+---------+--------------+\n",
      "|telephone tablette|couteurs Bluetoot...|         96.0|      3.3|          13.0|\n",
      "|telephone tablette|Support Trpied rg...|        129.0|      5.0|           1.0|\n",
      "|telephone tablette|couteurs Bluetoot...|         66.0|      3.7|          70.0|\n",
      "|telephone tablette|XIAOMI Redmi Buds...|        188.0|      4.4|          20.0|\n",
      "|telephone tablette|M10 TWS True Wire...|         49.0|      3.7|         164.0|\n",
      "|telephone tablette|XIAOMI REDMI NOTE...|       2049.0|      4.3|           9.0|\n",
      "|telephone tablette|couteurs Bluetoot...|         99.0|      3.9|          24.0|\n",
      "|telephone tablette|XIAOMI Redmi Buds...|        188.0|      4.1|          15.0|\n",
      "|telephone tablette|P9 Casque Bluetoo...|         65.6|      3.6|         179.0|\n",
      "|telephone tablette|bracelet pour app...|         49.0|      3.5|          22.0|\n",
      "|telephone tablette|Samsung Galaxy A0...|       1299.0|      4.9|          12.0|\n",
      "|telephone tablette|Apple iPhone 15 P...|      14625.0|      5.0|           1.0|\n",
      "|telephone tablette|Nia Casque Blueto...|         89.0|      4.3|         122.0|\n",
      "|telephone tablette|TWS couteurs sans...|         58.5|      3.6|          35.0|\n",
      "|telephone tablette|Itel A70 8GB 35GB...|        899.0|      5.0|           2.0|\n",
      "|telephone tablette|Smart watch pour ...|         75.0|      3.2|          14.0|\n",
      "|telephone tablette|Smartwatch Smart ...|         75.0|      3.0|           2.0|\n",
      "|telephone tablette|Bracelet Magntiqu...|         49.0|      4.0|          25.0|\n",
      "|telephone tablette|JBL Casque Tune 5...|        499.0|      4.4|           5.0|\n",
      "|telephone tablette|Casque de jeu int...|         79.0|      3.7|          13.0|\n",
      "+------------------+--------------------+-------------+---------+--------------+\n",
      "only showing top 20 rows\n",
      "\n"
     ]
    }
   ],
   "source": [
    "from pyspark.sql.functions import trim, col\n",
    "\n",
    "# Remove special characters and extra spaces from the \"product_name\" column\n",
    "sold_products_df = sold_products_df.withColumn(\"product_name\", regexp_replace(col(\"product_name\"), \"[^a-zA-Z0-9\\s]+\", \"\"))\n",
    "sold_products_df = sold_products_df.withColumn(\"product_name\", trim(col(\"product_name\")))\n",
    "\n",
    "sold_products_df.show()\n"
   ]
  },
  {
   "cell_type": "markdown",
   "metadata": {},
   "source": [
    "### Drop Rows with Null Values\n"
   ]
  },
  {
   "cell_type": "code",
   "execution_count": 9,
   "metadata": {},
   "outputs": [
    {
     "name": "stdout",
     "output_type": "stream",
     "text": [
      "Number of rows after dropping nulls: 18880\n"
     ]
    }
   ],
   "source": [
    "# Drop rows with any null values\n",
    "sold_products_df = sold_products_df.dropna()\n",
    "\n",
    "row_count = sold_products_df.count()\n",
    "print(\"Number of rows after dropping nulls:\", row_count)\n"
   ]
  },
  {
   "cell_type": "markdown",
   "metadata": {},
   "source": [
    "### Print the Schema of the DataFrame\n"
   ]
  },
  {
   "cell_type": "code",
   "execution_count": 10,
   "metadata": {},
   "outputs": [
    {
     "name": "stdout",
     "output_type": "stream",
     "text": [
      "root\n",
      " |-- category: string (nullable = true)\n",
      " |-- product_name: string (nullable = true)\n",
      " |-- product_price: string (nullable = true)\n",
      " |-- stars_avg: double (nullable = true)\n",
      " |-- reviews_number: double (nullable = true)\n",
      "\n"
     ]
    }
   ],
   "source": [
    "sold_products_df.printSchema()\n"
   ]
  },
  {
   "cell_type": "markdown",
   "metadata": {},
   "source": [
    "### Convert Columns to Appropriate Data Types\n"
   ]
  },
  {
   "cell_type": "code",
   "execution_count": 11,
   "metadata": {},
   "outputs": [
    {
     "name": "stdout",
     "output_type": "stream",
     "text": [
      "root\n",
      " |-- category: string (nullable = true)\n",
      " |-- product_name: string (nullable = true)\n",
      " |-- product_price: double (nullable = true)\n",
      " |-- stars_avg: double (nullable = true)\n",
      " |-- reviews_number: integer (nullable = true)\n",
      "\n"
     ]
    }
   ],
   "source": [
    "from pyspark.sql.functions import col\n",
    "\n",
    "# Convert \"reviews_number\" to integer\n",
    "sold_products_df = sold_products_df.withColumn(\"reviews_number\", col(\"reviews_number\").cast(\"int\"))\n",
    "\n",
    "# Convert \"product_price\" to double\n",
    "sold_products_df = sold_products_df.withColumn(\"product_price\", col(\"product_price\").cast(\"double\"))\n",
    "\n",
    "sold_products_df.printSchema()\n",
    "\n"
   ]
  },
  {
   "cell_type": "markdown",
   "metadata": {},
   "source": [
    "### Show the Final Cleaned DataFrame\n"
   ]
  },
  {
   "cell_type": "code",
   "execution_count": 12,
   "metadata": {},
   "outputs": [
    {
     "name": "stdout",
     "output_type": "stream",
     "text": [
      "+------------------+--------------------+-------------+---------+--------------+\n",
      "|          category|        product_name|product_price|stars_avg|reviews_number|\n",
      "+------------------+--------------------+-------------+---------+--------------+\n",
      "|telephone tablette|couteurs Bluetoot...|         96.0|      3.3|            13|\n",
      "|telephone tablette|Support Trpied rg...|        129.0|      5.0|             1|\n",
      "|telephone tablette|couteurs Bluetoot...|         66.0|      3.7|            70|\n",
      "|telephone tablette|XIAOMI Redmi Buds...|        188.0|      4.4|            20|\n",
      "|telephone tablette|M10 TWS True Wire...|         49.0|      3.7|           164|\n",
      "|telephone tablette|XIAOMI REDMI NOTE...|       2049.0|      4.3|             9|\n",
      "|telephone tablette|couteurs Bluetoot...|         99.0|      3.9|            24|\n",
      "|telephone tablette|XIAOMI Redmi Buds...|        188.0|      4.1|            15|\n",
      "|telephone tablette|P9 Casque Bluetoo...|         65.6|      3.6|           179|\n",
      "|telephone tablette|bracelet pour app...|         49.0|      3.5|            22|\n",
      "|telephone tablette|Samsung Galaxy A0...|       1299.0|      4.9|            12|\n",
      "|telephone tablette|Apple iPhone 15 P...|      14625.0|      5.0|             1|\n",
      "|telephone tablette|Nia Casque Blueto...|         89.0|      4.3|           122|\n",
      "|telephone tablette|TWS couteurs sans...|         58.5|      3.6|            35|\n",
      "|telephone tablette|Itel A70 8GB 35GB...|        899.0|      5.0|             2|\n",
      "|telephone tablette|Smart watch pour ...|         75.0|      3.2|            14|\n",
      "|telephone tablette|Smartwatch Smart ...|         75.0|      3.0|             2|\n",
      "|telephone tablette|Bracelet Magntiqu...|         49.0|      4.0|            25|\n",
      "|telephone tablette|JBL Casque Tune 5...|        499.0|      4.4|             5|\n",
      "|telephone tablette|Casque de jeu int...|         79.0|      3.7|            13|\n",
      "+------------------+--------------------+-------------+---------+--------------+\n",
      "only showing top 20 rows\n",
      "\n"
     ]
    }
   ],
   "source": [
    "sold_products_df.show()\n"
   ]
  },
  {
   "cell_type": "markdown",
   "metadata": {},
   "source": [
    "## Define product quality "
   ]
  },
  {
   "cell_type": "code",
   "execution_count": 13,
   "metadata": {},
   "outputs": [
    {
     "name": "stdout",
     "output_type": "stream",
     "text": [
      "+------------------+--------------------+-------------+---------+--------------+-------+\n",
      "|          category|        product_name|product_price|stars_avg|reviews_number|quality|\n",
      "+------------------+--------------------+-------------+---------+--------------+-------+\n",
      "|telephone tablette|couteurs Bluetoot...|         96.0|      3.3|            13|Average|\n",
      "|telephone tablette|Support Trpied rg...|        129.0|      5.0|             1|   Good|\n",
      "|telephone tablette|couteurs Bluetoot...|         66.0|      3.7|            70|Average|\n",
      "|telephone tablette|XIAOMI Redmi Buds...|        188.0|      4.4|            20|   Good|\n",
      "|telephone tablette|M10 TWS True Wire...|         49.0|      3.7|           164|Average|\n",
      "|telephone tablette|XIAOMI REDMI NOTE...|       2049.0|      4.3|             9|   Good|\n",
      "|telephone tablette|couteurs Bluetoot...|         99.0|      3.9|            24|Average|\n",
      "|telephone tablette|XIAOMI Redmi Buds...|        188.0|      4.1|            15|   Good|\n",
      "|telephone tablette|P9 Casque Bluetoo...|         65.6|      3.6|           179|Average|\n",
      "|telephone tablette|bracelet pour app...|         49.0|      3.5|            22|Average|\n",
      "|telephone tablette|Samsung Galaxy A0...|       1299.0|      4.9|            12|   Good|\n",
      "|telephone tablette|Apple iPhone 15 P...|      14625.0|      5.0|             1|   Good|\n",
      "|telephone tablette|Nia Casque Blueto...|         89.0|      4.3|           122|   Good|\n",
      "|telephone tablette|TWS couteurs sans...|         58.5|      3.6|            35|Average|\n",
      "|telephone tablette|Itel A70 8GB 35GB...|        899.0|      5.0|             2|   Good|\n",
      "|telephone tablette|Smart watch pour ...|         75.0|      3.2|            14|Average|\n",
      "|telephone tablette|Smartwatch Smart ...|         75.0|      3.0|             2|Average|\n",
      "|telephone tablette|Bracelet Magntiqu...|         49.0|      4.0|            25|   Good|\n",
      "|telephone tablette|JBL Casque Tune 5...|        499.0|      4.4|             5|   Good|\n",
      "|telephone tablette|Casque de jeu int...|         79.0|      3.7|            13|Average|\n",
      "+------------------+--------------------+-------------+---------+--------------+-------+\n",
      "only showing top 20 rows\n",
      "\n"
     ]
    }
   ],
   "source": [
    "from pyspark.sql.functions import col, when\n",
    "\n",
    "# Define sentiment based on stars_avg\n",
    "sold_products_df = sold_products_df.withColumn(\n",
    "    \"quality\",\n",
    "    when(col(\"stars_avg\") >= 4.0, \"Good\")\n",
    "    .when((col(\"stars_avg\") >= 2.5) & (col(\"stars_avg\") < 4.0), \"Average\")\n",
    "    .otherwise(\"Bad\")\n",
    ")\n",
    "\n",
    "# Show the DataFrame with the new column\n",
    "sold_products_df.show()\n"
   ]
  },
  {
   "cell_type": "markdown",
   "metadata": {},
   "source": [
    "### DF save"
   ]
  },
  {
   "cell_type": "code",
   "execution_count": 14,
   "metadata": {},
   "outputs": [
    {
     "name": "stdout",
     "output_type": "stream",
     "text": [
      "Requirement already satisfied: pandas in c:\\users\\asus\\anaconda3\\lib\\site-packages (1.5.1)\n",
      "Requirement already satisfied: openpyxl in c:\\users\\asus\\anaconda3\\lib\\site-packages (3.0.10)\n",
      "Requirement already satisfied: python-dateutil>=2.8.1 in c:\\users\\asus\\anaconda3\\lib\\site-packages (from pandas) (2.8.2)\n",
      "Requirement already satisfied: pytz>=2020.1 in c:\\users\\asus\\anaconda3\\lib\\site-packages (from pandas) (2023.3.post1)\n",
      "Requirement already satisfied: numpy>=1.21.0 in c:\\users\\asus\\anaconda3\\lib\\site-packages (from pandas) (1.24.3)\n",
      "Requirement already satisfied: et_xmlfile in c:\\users\\asus\\anaconda3\\lib\\site-packages (from openpyxl) (1.1.0)\n",
      "Requirement already satisfied: six>=1.5 in c:\\users\\asus\\anaconda3\\lib\\site-packages (from python-dateutil>=2.8.1->pandas) (1.16.0)\n",
      "Note: you may need to restart the kernel to use updated packages.\n"
     ]
    }
   ],
   "source": [
    "%pip install pandas openpyxl\n"
   ]
  },
  {
   "cell_type": "code",
   "execution_count": 15,
   "metadata": {},
   "outputs": [],
   "source": [
    "import pandas as pd\n",
    "\n",
    "sold_products_pd_df = sold_products_df.toPandas()\n",
    "\n",
    "# Save the Pandas DataFrame to an Excel file\n",
    "excel_file_path = 'products_sold_data.xlsx'\n",
    "sold_products_pd_df.to_excel(excel_file_path, index=False)\n"
   ]
  }
 ],
 "metadata": {
  "kernelspec": {
   "display_name": "base",
   "language": "python",
   "name": "python3"
  },
  "language_info": {
   "codemirror_mode": {
    "name": "ipython",
    "version": 3
   },
   "file_extension": ".py",
   "mimetype": "text/x-python",
   "name": "python",
   "nbconvert_exporter": "python",
   "pygments_lexer": "ipython3",
   "version": "3.11.5"
  }
 },
 "nbformat": 4,
 "nbformat_minor": 2
}
